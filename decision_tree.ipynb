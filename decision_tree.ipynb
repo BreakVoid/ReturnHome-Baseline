{
 "cells": [
  {
   "cell_type": "code",
   "execution_count": 1,
   "metadata": {
    "collapsed": true,
    "pycharm": {
     "name": "#%%\n"
    }
   },
   "outputs": [],
   "source": [
    "import matplotlib.pyplot as plt\n",
    "import numpy as np\n",
    "import pandas as pd\n",
    "import seaborn as sns"
   ]
  },
  {
   "cell_type": "code",
   "execution_count": 2,
   "outputs": [
    {
     "data": {
      "text/plain": "           id  f1  f2  f3  f4  f5   f6   f7   f8  f9  ...  f38  f39  f40  f41  \\\n0       81167   0   1   2   0   0    0  153    0   0  ...    0    0    0    0   \n1       50408   1   1   2   0   0   21    0    0   0  ...    0    0    0    0   \n2        9114   0   0   0  36  36  120    0    0   0  ...    0    0    0    0   \n3       53228   1   1   1   0   0    0    0    0   0  ...    0    0    0    0   \n4       56280   1   1   2   9  51  294    0    0   0  ...    0    0    0    0   \n...       ...  ..  ..  ..  ..  ..  ...  ...  ...  ..  ...  ...  ...  ...  ...   \n59867  181695   0   0   0   0   0    0   45    0   0  ...    0    0    0    0   \n59868  181696   0   0   1   0   0    0   54    0   0  ...    0    0    0    0   \n59869  181697   0   0   2   0   0    0    0    0   0  ...    0    0    0    0   \n59870  181698   0   0   0   0  36    0    0  183   0  ...    0    0    0    0   \n59871  181699   0   1   2   0   0  102   18    0   0  ...    0    0    0    0   \n\n       f42  f43  f44  f45   f46  label  \n0        0    0    0  624  1539      0  \n1        0    0    0  186   366      0  \n2        0    0    0   24    48      1  \n3        0    0    3    3     9      0  \n4        0    0    0   42   141      0  \n...    ...  ...  ...  ...   ...    ...  \n59867    0    0    0  141   399      0  \n59868    0   18    0   84   576      0  \n59869    0   60    0  462  1074      1  \n59870    0    0    0  420     0      0  \n59871    0    0   75    0   375      1  \n\n[59872 rows x 48 columns]",
      "text/html": "<div>\n<style scoped>\n    .dataframe tbody tr th:only-of-type {\n        vertical-align: middle;\n    }\n\n    .dataframe tbody tr th {\n        vertical-align: top;\n    }\n\n    .dataframe thead th {\n        text-align: right;\n    }\n</style>\n<table border=\"1\" class=\"dataframe\">\n  <thead>\n    <tr style=\"text-align: right;\">\n      <th></th>\n      <th>id</th>\n      <th>f1</th>\n      <th>f2</th>\n      <th>f3</th>\n      <th>f4</th>\n      <th>f5</th>\n      <th>f6</th>\n      <th>f7</th>\n      <th>f8</th>\n      <th>f9</th>\n      <th>...</th>\n      <th>f38</th>\n      <th>f39</th>\n      <th>f40</th>\n      <th>f41</th>\n      <th>f42</th>\n      <th>f43</th>\n      <th>f44</th>\n      <th>f45</th>\n      <th>f46</th>\n      <th>label</th>\n    </tr>\n  </thead>\n  <tbody>\n    <tr>\n      <th>0</th>\n      <td>81167</td>\n      <td>0</td>\n      <td>1</td>\n      <td>2</td>\n      <td>0</td>\n      <td>0</td>\n      <td>0</td>\n      <td>153</td>\n      <td>0</td>\n      <td>0</td>\n      <td>...</td>\n      <td>0</td>\n      <td>0</td>\n      <td>0</td>\n      <td>0</td>\n      <td>0</td>\n      <td>0</td>\n      <td>0</td>\n      <td>624</td>\n      <td>1539</td>\n      <td>0</td>\n    </tr>\n    <tr>\n      <th>1</th>\n      <td>50408</td>\n      <td>1</td>\n      <td>1</td>\n      <td>2</td>\n      <td>0</td>\n      <td>0</td>\n      <td>21</td>\n      <td>0</td>\n      <td>0</td>\n      <td>0</td>\n      <td>...</td>\n      <td>0</td>\n      <td>0</td>\n      <td>0</td>\n      <td>0</td>\n      <td>0</td>\n      <td>0</td>\n      <td>0</td>\n      <td>186</td>\n      <td>366</td>\n      <td>0</td>\n    </tr>\n    <tr>\n      <th>2</th>\n      <td>9114</td>\n      <td>0</td>\n      <td>0</td>\n      <td>0</td>\n      <td>36</td>\n      <td>36</td>\n      <td>120</td>\n      <td>0</td>\n      <td>0</td>\n      <td>0</td>\n      <td>...</td>\n      <td>0</td>\n      <td>0</td>\n      <td>0</td>\n      <td>0</td>\n      <td>0</td>\n      <td>0</td>\n      <td>0</td>\n      <td>24</td>\n      <td>48</td>\n      <td>1</td>\n    </tr>\n    <tr>\n      <th>3</th>\n      <td>53228</td>\n      <td>1</td>\n      <td>1</td>\n      <td>1</td>\n      <td>0</td>\n      <td>0</td>\n      <td>0</td>\n      <td>0</td>\n      <td>0</td>\n      <td>0</td>\n      <td>...</td>\n      <td>0</td>\n      <td>0</td>\n      <td>0</td>\n      <td>0</td>\n      <td>0</td>\n      <td>0</td>\n      <td>3</td>\n      <td>3</td>\n      <td>9</td>\n      <td>0</td>\n    </tr>\n    <tr>\n      <th>4</th>\n      <td>56280</td>\n      <td>1</td>\n      <td>1</td>\n      <td>2</td>\n      <td>9</td>\n      <td>51</td>\n      <td>294</td>\n      <td>0</td>\n      <td>0</td>\n      <td>0</td>\n      <td>...</td>\n      <td>0</td>\n      <td>0</td>\n      <td>0</td>\n      <td>0</td>\n      <td>0</td>\n      <td>0</td>\n      <td>0</td>\n      <td>42</td>\n      <td>141</td>\n      <td>0</td>\n    </tr>\n    <tr>\n      <th>...</th>\n      <td>...</td>\n      <td>...</td>\n      <td>...</td>\n      <td>...</td>\n      <td>...</td>\n      <td>...</td>\n      <td>...</td>\n      <td>...</td>\n      <td>...</td>\n      <td>...</td>\n      <td>...</td>\n      <td>...</td>\n      <td>...</td>\n      <td>...</td>\n      <td>...</td>\n      <td>...</td>\n      <td>...</td>\n      <td>...</td>\n      <td>...</td>\n      <td>...</td>\n      <td>...</td>\n    </tr>\n    <tr>\n      <th>59867</th>\n      <td>181695</td>\n      <td>0</td>\n      <td>0</td>\n      <td>0</td>\n      <td>0</td>\n      <td>0</td>\n      <td>0</td>\n      <td>45</td>\n      <td>0</td>\n      <td>0</td>\n      <td>...</td>\n      <td>0</td>\n      <td>0</td>\n      <td>0</td>\n      <td>0</td>\n      <td>0</td>\n      <td>0</td>\n      <td>0</td>\n      <td>141</td>\n      <td>399</td>\n      <td>0</td>\n    </tr>\n    <tr>\n      <th>59868</th>\n      <td>181696</td>\n      <td>0</td>\n      <td>0</td>\n      <td>1</td>\n      <td>0</td>\n      <td>0</td>\n      <td>0</td>\n      <td>54</td>\n      <td>0</td>\n      <td>0</td>\n      <td>...</td>\n      <td>0</td>\n      <td>0</td>\n      <td>0</td>\n      <td>0</td>\n      <td>0</td>\n      <td>18</td>\n      <td>0</td>\n      <td>84</td>\n      <td>576</td>\n      <td>0</td>\n    </tr>\n    <tr>\n      <th>59869</th>\n      <td>181697</td>\n      <td>0</td>\n      <td>0</td>\n      <td>2</td>\n      <td>0</td>\n      <td>0</td>\n      <td>0</td>\n      <td>0</td>\n      <td>0</td>\n      <td>0</td>\n      <td>...</td>\n      <td>0</td>\n      <td>0</td>\n      <td>0</td>\n      <td>0</td>\n      <td>0</td>\n      <td>60</td>\n      <td>0</td>\n      <td>462</td>\n      <td>1074</td>\n      <td>1</td>\n    </tr>\n    <tr>\n      <th>59870</th>\n      <td>181698</td>\n      <td>0</td>\n      <td>0</td>\n      <td>0</td>\n      <td>0</td>\n      <td>36</td>\n      <td>0</td>\n      <td>0</td>\n      <td>183</td>\n      <td>0</td>\n      <td>...</td>\n      <td>0</td>\n      <td>0</td>\n      <td>0</td>\n      <td>0</td>\n      <td>0</td>\n      <td>0</td>\n      <td>0</td>\n      <td>420</td>\n      <td>0</td>\n      <td>0</td>\n    </tr>\n    <tr>\n      <th>59871</th>\n      <td>181699</td>\n      <td>0</td>\n      <td>1</td>\n      <td>2</td>\n      <td>0</td>\n      <td>0</td>\n      <td>102</td>\n      <td>18</td>\n      <td>0</td>\n      <td>0</td>\n      <td>...</td>\n      <td>0</td>\n      <td>0</td>\n      <td>0</td>\n      <td>0</td>\n      <td>0</td>\n      <td>0</td>\n      <td>75</td>\n      <td>0</td>\n      <td>375</td>\n      <td>1</td>\n    </tr>\n  </tbody>\n</table>\n<p>59872 rows × 48 columns</p>\n</div>"
     },
     "execution_count": 2,
     "metadata": {},
     "output_type": "execute_result"
    }
   ],
   "source": [
    "train_df = pd.read_csv(\n",
    "    'dataset/dataTrain.csv',\n",
    "    dtype={\n",
    "        'f3': 'category',\n",
    "    }\n",
    ")\n",
    "train_df['f3'] = pd.factorize(train_df.f3, sort=True)[0]\n",
    "train_df"
   ],
   "metadata": {
    "collapsed": false,
    "pycharm": {
     "name": "#%%\n"
    }
   }
  },
  {
   "cell_type": "code",
   "execution_count": 9,
   "outputs": [
    {
     "name": "stdout",
     "output_type": "stream",
     "text": [
      "0.8559498956158664\n",
      "0.8506054279749478\n",
      "0.8494237514615\n",
      "0.86170035075998\n",
      "0.7083681309503925\n"
     ]
    }
   ],
   "source": [
    "from sklearn.model_selection import KFold\n",
    "from sklearn.tree import DecisionTreeClassifier\n",
    "\n",
    "def get_model():\n",
    "    return DecisionTreeClassifier(max_depth=3)\n",
    "\n",
    "kf = KFold(5)\n",
    "X = train_df.values[:, 1:-1]\n",
    "y = train_df.values[:, -1]\n",
    "for train_index, test_index in kf.split(X):\n",
    "    trainX, trainY = X[train_index], y[train_index]\n",
    "    testX, testY = X[test_index], y[test_index]\n",
    "    model = get_model()\n",
    "    model.fit(trainX, trainY)\n",
    "    print(model.score(testX, testY))"
   ],
   "metadata": {
    "collapsed": false,
    "pycharm": {
     "name": "#%%\n"
    }
   }
  },
  {
   "cell_type": "code",
   "execution_count": 10,
   "outputs": [],
   "source": [
    "test_df = pd.read_csv(\n",
    "    'dataset/dataA.csv',\n",
    "    dtype={\n",
    "        'f3': 'category',\n",
    "    }\n",
    ")\n",
    "test_df['f3'] = pd.factorize(test_df.f3, sort=True)[0]\n",
    "testX = test_df.values[:, 1:]\n",
    "model = get_model()\n",
    "model.fit(X, y)\n",
    "pred = model.predict(testX)\n",
    "pred_df = pd.DataFrame(\n",
    "    data={\n",
    "        'id': test_df.id,\n",
    "        'label': pred,\n",
    "    }\n",
    ")\n",
    "pred_df.to_csv('submission.csv', index=False)"
   ],
   "metadata": {
    "collapsed": false,
    "pycharm": {
     "name": "#%%\n"
    }
   }
  }
 ],
 "metadata": {
  "kernelspec": {
   "display_name": "Python 3",
   "language": "python",
   "name": "python3"
  },
  "language_info": {
   "codemirror_mode": {
    "name": "ipython",
    "version": 2
   },
   "file_extension": ".py",
   "mimetype": "text/x-python",
   "name": "python",
   "nbconvert_exporter": "python",
   "pygments_lexer": "ipython2",
   "version": "2.7.6"
  }
 },
 "nbformat": 4,
 "nbformat_minor": 0
}